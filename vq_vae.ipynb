{
  "cells": [
    {
      "cell_type": "markdown",
      "metadata": {
        "id": "qVAdwPf6hHbU"
      },
      "source": [
        "## __Vector Quantized Variational AutoEncoder (VQ-VAE)__ Modelling\n",
        "\n",
        "Source: [Neural Discrete Representation Learning](https://proceedings.neurips.cc/paper/2017/hash/7a98af17e63a0ac09ce2e96d03992fbc-Abstract.html)"
      ]
    },
    {
      "cell_type": "code",
      "execution_count": 1,
      "metadata": {
        "id": "nwk47CuobWFx"
      },
      "outputs": [],
      "source": [
        "import torch\n",
        "import numpy as np\n",
        "import torch.nn as nn\n",
        "import torch.nn.functional as F\n",
        "import torchvision\n",
        "import matplotlib.pyplot as plt\n",
        "from torchvision import datasets\n",
        "from torch.utils.data import DataLoader\n",
        "from torchvision.utils import make_grid\n",
        "from torchvision.transforms import v2\n",
        "from torchinfo import summary"
      ]
    },
    {
      "cell_type": "markdown",
      "metadata": {
        "id": "kKGn_5XXg7JU"
      },
      "source": [
        "### __VQ-VAE Architecture__\n",
        "\n",
        "VQ_VAE uses __discrete latent variable__ instead of continuous to pass into decoder of the network.\n",
        "\n",
        "At first, we define a latent embedding space $e\\in \\mathbb{R}^{k\\times D}$ where $K$ is the size of discrete latent space and $D$ is the dimension of each latent embedding vector.\n",
        "\n",
        "- Model takes the input $x$ and encoder output $z_{e}(x)$\n",
        "- __Discrete latent variable (z)__ are then calculated by nearest neighbour look up from the shared embedding space, $e$ as given below:\n",
        "\n",
        "$$\n",
        "q(z=k \\mid x) =\n",
        "\\begin{cases}\n",
        "1 & \\text{if } k = \\arg\\min_j \\| z_e(x) - e_j \\|_2 \\\\\n",
        "0 & \\text{otherwise}\n",
        "\\end{cases}$$\n",
        "\n",
        "- The encoder output of $z_{e}(x)$ is replaced by nearest embedding vector $e_{k}$\n",
        "- This makes posterior $q(z |x)$ a one-hot categorical distribution, and these embedding are then used as an input in decoder network.\n",
        "\n",
        "This is the __Vector Quantization__ process and quantized version of decoder input of $z_{e}(x)$ - $z_{q}(x)$ is given by:\n",
        "\n",
        "$$ z_{q}(x) = e_{k} \\quad \\text{where} \\quad\n",
        "k = \\arg\\min_j \\| z_e(x) - e_j \\|_2 $$\n",
        "\n"
      ]
    },
    {
      "cell_type": "markdown",
      "metadata": {
        "id": "cwtdi6uuTF0a"
      },
      "source": [
        "### __Training Part__\n",
        "\n",
        "During the forward pass, the nearest embedding $z_{q}(x)$ is passed to the decoder, and during the backwards pass the gradient $∇_{z}L$ is passed unaltered to the encoder."
      ]
    },
    {
      "cell_type": "code",
      "execution_count": 2,
      "metadata": {
        "id": "Y0ne-D5C5udp"
      },
      "outputs": [],
      "source": [
        "transform = v2.Compose([v2.ToImage(), v2.ToDtype(torch.float32, scale=True)])\n",
        "\n",
        "train_data = datasets.MNIST(root='./data', train=True, download=True, transform=transform)\n",
        "test_data = datasets.MNIST(root='./data', train=False, download=True, transform=transform)\n",
        "\n",
        "\n",
        "batch_size = 64\n",
        "train_loader = DataLoader(train_data, batch_size=batch_size, shuffle=True)\n",
        "test_loader = DataLoader(test_data, batch_size=batch_size, shuffle=False)"
      ]
    },
    {
      "cell_type": "code",
      "execution_count": 3,
      "metadata": {
        "colab": {
          "base_uri": "https://localhost:8080/",
          "height": 450
        },
        "id": "QfcnFYHA75TL",
        "outputId": "730bf389-7b49-4888-8da6-e34dfdd3517f"
      },
      "outputs": [
        {
          "data": {
            "image/png": "[encoded data removed]",
            "text/plain": [
              "<Figure size 1000x1000 with 1 Axes>"
            ]
          },
          "metadata": {},
          "output_type": "display_data"
        }
      ],
      "source": [
        "def show_images(images, title=None, nrow=8):\n",
        "    grid = make_grid(images, nrow=nrow, padding=2)\n",
        "    plt.figure(figsize=(10,10))\n",
        "    plt.imshow(np.transpose(grid, (1,2,0))) # changing order of grid to (H, W, C)\n",
        "    if title:\n",
        "        plt.title(title)\n",
        "    plt.axis('off')\n",
        "    plt.show()\n",
        "\n",
        "# Getting new batch of training celeba data\n",
        "dataiter = iter(train_loader)\n",
        "images, _ = next(dataiter)\n",
        "\n",
        "# Plotting images\n",
        "show_images(images[:32], \"Original CelebA Images\")"
      ]
    },
    {
      "cell_type": "code",
      "execution_count": 4,
      "metadata": {
        "id": "bZCu5agF7SAC"
      },
      "outputs": [],
      "source": [
        "class VectorQuantizer(nn.Module):\n",
        "\n",
        "    def __init__(self, num_embeddings, embedding_dim, commitment_cost=0.2):\n",
        "        super().__init__()\n",
        "        self.num_embeddings = num_embeddings\n",
        "        self.embedding_dim = embedding_dim\n",
        "        self.commitment_cost = commitment_cost\n",
        "\n",
        "        self.embedding = nn.Embedding(num_embeddings, embedding_dim)\n",
        "        self.embedding.weight.data.uniform_(-1/num_embeddings, 1/num_embeddings)\n",
        "\n",
        "    def forward(self, x):\n",
        "        # x shape: (B, C, H, W) → reshape to (B*H*W, C)\n",
        "        flat_x = x.permute(0, 2, 3, 1).contiguous()\n",
        "        flat_x = flat_x.view(-1, self.embedding_dim)\n",
        "\n",
        "        # Compute distances\n",
        "        distances = (\n",
        "            torch.sum(flat_x**2, dim=1, keepdim=True) +\n",
        "            torch.sum(self.embedding.weight**2, dim=1) -\n",
        "            2 * torch.matmul(flat_x, self.embedding.weight.t()))\n",
        "\n",
        "        encoding_indices = torch.argmin(distances, dim=1)\n",
        "        quantized = self.embedding(encoding_indices)\n",
        "\n",
        "        quantized = quantized.view(x.shape[0], x.shape[2], x.shape[3], -1).permute(0, 3, 1, 2)\n",
        "        quantized = x + (quantized - x).detach()\n",
        "\n",
        "        # Losses\n",
        "        codebook_loss = F.mse_loss(quantized.detach(), x)\n",
        "        commitment_loss = F.mse_loss(x.detach(), quantized)\n",
        "        vq_loss = codebook_loss + self.commitment_cost * commitment_loss\n",
        "\n",
        "        # Return quantized, vq_loss, and encoding_indices\n",
        "        return quantized, vq_loss, encoding_indices.view(x.shape[0], -1)"
      ]
    },
    {
      "cell_type": "code",
      "execution_count": 5,
      "metadata": {
        "id": "LTWu2y-O7bnI"
      },
      "outputs": [],
      "source": [
        "class VQVAE(nn.Module):\n",
        "    def __init__(self, num_embeddings=128, embedding_dim=32, commitment_cost=0.2):\n",
        "        super().__init__()\n",
        "        self.encoder = nn.Sequential(\n",
        "            nn.Conv2d(1, 64, 4, stride=2, padding=1),\n",
        "            nn.LeakyReLU(),\n",
        "            nn.Conv2d(64, 128, 4, stride=2, padding=1),\n",
        "            nn.LeakyReLU(),\n",
        "            nn.Conv2d(128, embedding_dim, 1)\n",
        "        )\n",
        "\n",
        "        self.vq = VectorQuantizer(num_embeddings, embedding_dim, commitment_cost)\n",
        "\n",
        "        self.decoder = nn.Sequential(\n",
        "         \n",
        "            nn.ConvTranspose2d(embedding_dim, 128, 4, stride=2, padding=1),\n",
        "            nn.LeakyReLU(),\n",
        "            nn.ConvTranspose2d(128, 64, 4, stride=2, padding=1),\n",
        "            nn.LeakyReLU(),\n",
        "            nn.Conv2d(64, 1, 3, padding=1),\n",
        "            nn.Sigmoid()\n",
        "        )\n",
        "\n",
        "    def forward(self, x):\n",
        "        z = self.encoder(x)\n",
        "        quantized, vq_loss, encoding_indices = self.vq(z)\n",
        "        x_recon = self.decoder(quantized)\n",
        "        return x_recon, vq_loss, encoding_indices\n",
        "\n",
        "    def decode_from_indices(self, indices):\n",
        "        # Convert indices to quantized vectors\n",
        "        quantized = self.vq.embedding(indices)\n",
        "        # Reshape to (B, H, W, C) then permute to (B, C, H, W)\n",
        "        quantized = quantized.view(indices.shape[0], 8, 8, -1).permute(0, 3, 1, 2)\n",
        "        return self.decoder(quantized)"
      ]
    },
    {
      "cell_type": "code",
      "execution_count": 6,
      "metadata": {
        "colab": {
          "base_uri": "https://localhost:8080/"
        },
        "id": "RnO6zUeF7eIM",
        "outputId": "becf6846-ea8c-4e5d-95e0-d36a217c88f1"
      },
      "outputs": [],
      "source": [
        "num_epochs = 30\n",
        "learning_rate = 25e-4\n",
        "\n",
        "# Define model, optimizer, and device\n",
        "model = VQVAE(num_embeddings=64, embedding_dim=16)\n",
        "optimizer = torch.optim.Adam(model.parameters(), lr=learning_rate)"
      ]
    },
    {
      "cell_type": "code",
      "execution_count": 7,
      "metadata": {
        "colab": {
          "base_uri": "https://localhost:8080/"
        },
        "id": "rDbd5HTo8img",
        "outputId": "9b546628-b087-449a-8605-6d73b5b17678"
      },
      "outputs": [
        {
          "name": "stdout",
          "output_type": "stream",
          "text": [
            "==========================================================================================\n",
            "Layer (type:depth-idx)                   Output Shape              Param #\n",
            "==========================================================================================\n",
            "VQVAE                                    [1, 1, 28, 28]            --\n",
            "├─Sequential: 1-1                        [1, 16, 7, 7]             --\n",
            "│    └─Conv2d: 2-1                       [1, 64, 14, 14]           1,088\n",
            "│    └─LeakyReLU: 2-2                    [1, 64, 14, 14]           --\n",
            "│    └─Conv2d: 2-3                       [1, 128, 7, 7]            131,200\n",
            "│    └─LeakyReLU: 2-4                    [1, 128, 7, 7]            --\n",
            "│    └─Conv2d: 2-5                       [1, 16, 7, 7]             2,064\n",
            "├─VectorQuantizer: 1-2                   [1, 16, 7, 7]             --\n",
            "│    └─Embedding: 2-6                    [49, 16]                  1,024\n",
            "├─Sequential: 1-3                        [1, 1, 28, 28]            --\n",
            "│    └─ConvTranspose2d: 2-7              [1, 128, 14, 14]          32,896\n",
            "│    └─LeakyReLU: 2-8                    [1, 128, 14, 14]          --\n",
            "│    └─ConvTranspose2d: 2-9              [1, 64, 28, 28]           131,136\n",
            "│    └─LeakyReLU: 2-10                   [1, 64, 28, 28]           --\n",
            "│    └─Conv2d: 2-11                      [1, 1, 28, 28]            577\n",
            "│    └─Sigmoid: 2-12                     [1, 1, 28, 28]            --\n",
            "==========================================================================================\n",
            "Total params: 299,985\n",
            "Trainable params: 299,985\n",
            "Non-trainable params: 0\n",
            "Total mult-adds (M): 116.50\n",
            "==========================================================================================\n",
            "Input size (MB): 0.00\n",
            "Forward/backward pass size (MB): 0.77\n",
            "Params size (MB): 1.20\n",
            "Estimated Total Size (MB): 1.97\n",
            "==========================================================================================\n"
          ]
        }
      ],
      "source": [
        "print(summary(model, input_size=(1, 1, 28, 28)))"
      ]
    },
    {
      "cell_type": "code",
      "execution_count": 8,
      "metadata": {
        "colab": {
          "base_uri": "https://localhost:8080/"
        },
        "id": "Mk09RLs57ksV",
        "outputId": "c9ab2338-15aa-4fbd-b389-5a1b134611fc"
      },
      "outputs": [
        {
          "name": "stderr",
          "output_type": "stream",
          "text": [
            "100%|██████████| 938/938 [01:57<00:00,  7.99it/s]\n"
          ]
        },
        {
          "name": "stdout",
          "output_type": "stream",
          "text": [
            "Epoch: 1 Total Loss: 0.7321 Reconstruction Loss: 0.0019 VQ Loss: 0.7302\n"
          ]
        },
        {
          "name": "stderr",
          "output_type": "stream",
          "text": [
            "100%|██████████| 938/938 [01:55<00:00,  8.12it/s]\n"
          ]
        },
        {
          "name": "stdout",
          "output_type": "stream",
          "text": [
            "Epoch: 2 Total Loss: 0.7068 Reconstruction Loss: 0.0014 VQ Loss: 0.7054\n"
          ]
        },
        {
          "name": "stderr",
          "output_type": "stream",
          "text": [
            "100%|██████████| 938/938 [02:04<00:00,  7.53it/s]\n"
          ]
        },
        {
          "name": "stdout",
          "output_type": "stream",
          "text": [
            "Epoch: 3 Total Loss: 0.7230 Reconstruction Loss: 0.0013 VQ Loss: 0.7217\n"
          ]
        },
        {
          "name": "stderr",
          "output_type": "stream",
          "text": [
            "100%|██████████| 938/938 [02:05<00:00,  7.49it/s]\n"
          ]
        },
        {
          "name": "stdout",
          "output_type": "stream",
          "text": [
            "Epoch: 4 Total Loss: 0.8047 Reconstruction Loss: 0.0013 VQ Loss: 0.8034\n"
          ]
        },
        {
          "name": "stderr",
          "output_type": "stream",
          "text": [
            "100%|██████████| 938/938 [01:54<00:00,  8.19it/s]\n"
          ]
        },
        {
          "name": "stdout",
          "output_type": "stream",
          "text": [
            "Epoch: 5 Total Loss: 0.7852 Reconstruction Loss: 0.0013 VQ Loss: 0.7840\n"
          ]
        },
        {
          "name": "stderr",
          "output_type": "stream",
          "text": [
            "100%|██████████| 938/938 [01:56<00:00,  8.02it/s]\n"
          ]
        },
        {
          "name": "stdout",
          "output_type": "stream",
          "text": [
            "Epoch: 6 Total Loss: 0.8434 Reconstruction Loss: 0.0013 VQ Loss: 0.8421\n"
          ]
        },
        {
          "name": "stderr",
          "output_type": "stream",
          "text": [
            "100%|██████████| 938/938 [01:57<00:00,  8.00it/s]\n"
          ]
        },
        {
          "name": "stdout",
          "output_type": "stream",
          "text": [
            "Epoch: 7 Total Loss: 0.8451 Reconstruction Loss: 0.0013 VQ Loss: 0.8439\n"
          ]
        },
        {
          "name": "stderr",
          "output_type": "stream",
          "text": [
            "100%|██████████| 938/938 [01:56<00:00,  8.06it/s]\n"
          ]
        },
        {
          "name": "stdout",
          "output_type": "stream",
          "text": [
            "Epoch: 8 Total Loss: 0.8030 Reconstruction Loss: 0.0013 VQ Loss: 0.8017\n"
          ]
        },
        {
          "name": "stderr",
          "output_type": "stream",
          "text": [
            "100%|██████████| 938/938 [02:02<00:00,  7.63it/s]\n"
          ]
        },
        {
          "name": "stdout",
          "output_type": "stream",
          "text": [
            "Epoch: 9 Total Loss: 0.8158 Reconstruction Loss: 0.0013 VQ Loss: 0.8146\n"
          ]
        },
        {
          "name": "stderr",
          "output_type": "stream",
          "text": [
            "100%|██████████| 938/938 [02:18<00:00,  6.79it/s]\n"
          ]
        },
        {
          "name": "stdout",
          "output_type": "stream",
          "text": [
            "Epoch: 10 Total Loss: 0.8683 Reconstruction Loss: 0.0013 VQ Loss: 0.8671\n"
          ]
        },
        {
          "name": "stderr",
          "output_type": "stream",
          "text": [
            "100%|██████████| 938/938 [01:54<00:00,  8.18it/s]\n"
          ]
        },
        {
          "name": "stdout",
          "output_type": "stream",
          "text": [
            "Epoch: 11 Total Loss: 0.8725 Reconstruction Loss: 0.0012 VQ Loss: 0.8712\n"
          ]
        },
        {
          "name": "stderr",
          "output_type": "stream",
          "text": [
            "100%|██████████| 938/938 [01:55<00:00,  8.14it/s]\n"
          ]
        },
        {
          "name": "stdout",
          "output_type": "stream",
          "text": [
            "Epoch: 12 Total Loss: 0.8566 Reconstruction Loss: 0.0012 VQ Loss: 0.8553\n"
          ]
        },
        {
          "name": "stderr",
          "output_type": "stream",
          "text": [
            "100%|██████████| 938/938 [01:55<00:00,  8.12it/s]\n"
          ]
        },
        {
          "name": "stdout",
          "output_type": "stream",
          "text": [
            "Epoch: 13 Total Loss: 0.8539 Reconstruction Loss: 0.0012 VQ Loss: 0.8527\n"
          ]
        },
        {
          "name": "stderr",
          "output_type": "stream",
          "text": [
            "100%|██████████| 938/938 [01:55<00:00,  8.09it/s]\n"
          ]
        },
        {
          "name": "stdout",
          "output_type": "stream",
          "text": [
            "Epoch: 14 Total Loss: 0.8869 Reconstruction Loss: 0.0012 VQ Loss: 0.8857\n"
          ]
        },
        {
          "name": "stderr",
          "output_type": "stream",
          "text": [
            "100%|██████████| 938/938 [01:56<00:00,  8.03it/s]\n"
          ]
        },
        {
          "name": "stdout",
          "output_type": "stream",
          "text": [
            "Epoch: 15 Total Loss: 0.8760 Reconstruction Loss: 0.0012 VQ Loss: 0.8748\n"
          ]
        },
        {
          "name": "stderr",
          "output_type": "stream",
          "text": [
            "100%|██████████| 938/938 [01:56<00:00,  8.08it/s]\n"
          ]
        },
        {
          "name": "stdout",
          "output_type": "stream",
          "text": [
            "Epoch: 16 Total Loss: 0.9054 Reconstruction Loss: 0.0012 VQ Loss: 0.9042\n"
          ]
        },
        {
          "name": "stderr",
          "output_type": "stream",
          "text": [
            "100%|██████████| 938/938 [01:59<00:00,  7.87it/s]\n"
          ]
        },
        {
          "name": "stdout",
          "output_type": "stream",
          "text": [
            "Epoch: 17 Total Loss: 0.8686 Reconstruction Loss: 0.0012 VQ Loss: 0.8674\n"
          ]
        },
        {
          "name": "stderr",
          "output_type": "stream",
          "text": [
            "100%|██████████| 938/938 [02:00<00:00,  7.75it/s]\n"
          ]
        },
        {
          "name": "stdout",
          "output_type": "stream",
          "text": [
            "Epoch: 18 Total Loss: 0.8745 Reconstruction Loss: 0.0012 VQ Loss: 0.8732\n"
          ]
        },
        {
          "name": "stderr",
          "output_type": "stream",
          "text": [
            "100%|██████████| 938/938 [02:00<00:00,  7.78it/s]\n"
          ]
        },
        {
          "name": "stdout",
          "output_type": "stream",
          "text": [
            "Epoch: 19 Total Loss: 0.8736 Reconstruction Loss: 0.0012 VQ Loss: 0.8724\n"
          ]
        },
        {
          "name": "stderr",
          "output_type": "stream",
          "text": [
            "100%|██████████| 938/938 [01:56<00:00,  8.05it/s]\n"
          ]
        },
        {
          "name": "stdout",
          "output_type": "stream",
          "text": [
            "Epoch: 20 Total Loss: 0.8712 Reconstruction Loss: 0.0012 VQ Loss: 0.8700\n"
          ]
        },
        {
          "name": "stderr",
          "output_type": "stream",
          "text": [
            "100%|██████████| 938/938 [01:54<00:00,  8.22it/s]\n"
          ]
        },
        {
          "name": "stdout",
          "output_type": "stream",
          "text": [
            "Epoch: 21 Total Loss: 0.8750 Reconstruction Loss: 0.0012 VQ Loss: 0.8738\n"
          ]
        },
        {
          "name": "stderr",
          "output_type": "stream",
          "text": [
            "100%|██████████| 938/938 [01:53<00:00,  8.29it/s]\n"
          ]
        },
        {
          "name": "stdout",
          "output_type": "stream",
          "text": [
            "Epoch: 22 Total Loss: 0.8703 Reconstruction Loss: 0.0012 VQ Loss: 0.8691\n"
          ]
        },
        {
          "name": "stderr",
          "output_type": "stream",
          "text": [
            "100%|██████████| 938/938 [01:53<00:00,  8.24it/s]\n"
          ]
        },
        {
          "name": "stdout",
          "output_type": "stream",
          "text": [
            "Epoch: 23 Total Loss: 0.8822 Reconstruction Loss: 0.0012 VQ Loss: 0.8809\n"
          ]
        },
        {
          "name": "stderr",
          "output_type": "stream",
          "text": [
            "100%|██████████| 938/938 [01:54<00:00,  8.21it/s]\n"
          ]
        },
        {
          "name": "stdout",
          "output_type": "stream",
          "text": [
            "Epoch: 24 Total Loss: 0.9028 Reconstruction Loss: 0.0012 VQ Loss: 0.9016\n"
          ]
        },
        {
          "name": "stderr",
          "output_type": "stream",
          "text": [
            "100%|██████████| 938/938 [02:22<00:00,  6.59it/s]\n"
          ]
        },
        {
          "name": "stdout",
          "output_type": "stream",
          "text": [
            "Epoch: 25 Total Loss: 0.8976 Reconstruction Loss: 0.0012 VQ Loss: 0.8964\n"
          ]
        },
        {
          "name": "stderr",
          "output_type": "stream",
          "text": [
            "100%|██████████| 938/938 [02:19<00:00,  6.71it/s]\n"
          ]
        },
        {
          "name": "stdout",
          "output_type": "stream",
          "text": [
            "Epoch: 26 Total Loss: 0.9133 Reconstruction Loss: 0.0012 VQ Loss: 0.9121\n"
          ]
        },
        {
          "name": "stderr",
          "output_type": "stream",
          "text": [
            "100%|██████████| 938/938 [02:25<00:00,  6.44it/s]\n"
          ]
        },
        {
          "name": "stdout",
          "output_type": "stream",
          "text": [
            "Epoch: 27 Total Loss: 0.9168 Reconstruction Loss: 0.0012 VQ Loss: 0.9156\n"
          ]
        },
        {
          "name": "stderr",
          "output_type": "stream",
          "text": [
            "100%|██████████| 938/938 [02:26<00:00,  6.40it/s]\n"
          ]
        },
        {
          "name": "stdout",
          "output_type": "stream",
          "text": [
            "Epoch: 28 Total Loss: 0.9162 Reconstruction Loss: 0.0012 VQ Loss: 0.9150\n"
          ]
        },
        {
          "name": "stderr",
          "output_type": "stream",
          "text": [
            "100%|██████████| 938/938 [02:27<00:00,  6.37it/s]\n"
          ]
        },
        {
          "name": "stdout",
          "output_type": "stream",
          "text": [
            "Epoch: 29 Total Loss: 0.8989 Reconstruction Loss: 0.0012 VQ Loss: 0.8977\n"
          ]
        },
        {
          "name": "stderr",
          "output_type": "stream",
          "text": [
            "100%|██████████| 938/938 [02:30<00:00,  6.23it/s]"
          ]
        },
        {
          "name": "stdout",
          "output_type": "stream",
          "text": [
            "Epoch: 30 Total Loss: 0.9079 Reconstruction Loss: 0.0012 VQ Loss: 0.9067\n",
            "Total Training Time: 61 min 44.46 s\n"
          ]
        },
        {
          "name": "stderr",
          "output_type": "stream",
          "text": [
            "\n"
          ]
        }
      ],
      "source": [
        "#training loop\n",
        "import time\n",
        "from tqdm import tqdm\n",
        "start = time.perf_counter()\n",
        "def train(epoch):\n",
        "\n",
        "  model.train()\n",
        "  accumulated_recon_loss = 0\n",
        "  accumulated_vq_loss = 0\n",
        "  training_loss = 0\n",
        "\n",
        "  for batch_idx, (data, _) in enumerate(tqdm(train_loader)):\n",
        "\n",
        "    optimizer.zero_grad()\n",
        "    recon_batch, vq_loss, _ = model(data)\n",
        "\n",
        "    recon_loss = F.binary_cross_entropy(recon_batch, data, reduction='mean')\n",
        "    total_loss = recon_loss + vq_loss\n",
        "\n",
        "    total_loss.backward()\n",
        "    training_loss += total_loss.item()\n",
        "    accumulated_recon_loss += recon_loss.item()\n",
        "    accumulated_vq_loss += vq_loss.item()\n",
        "    optimizer.step()\n",
        "\n",
        "  print(f'Epoch: {epoch} Total Loss: {training_loss / len(train_loader.dataset):.4f} '\n",
        "          f'Reconstruction Loss: {accumulated_recon_loss / len(train_loader.dataset):.4f} '\n",
        "          f'VQ Loss: {accumulated_vq_loss / len(train_loader.dataset):.4f}')\n",
        "\n",
        "for epoch in range(1, num_epochs + 1):\n",
        "  train(epoch)\n",
        "\n",
        "end = time.perf_counter()\n",
        "s2mps = lambda s: f\"{s // 60:.0f} min {s % 60:.2f} s\"\n",
        "print(f\"Total Training Time: {s2mps(end - start)}\")"
      ]
    },
    {
      "cell_type": "code",
      "execution_count": 11,
      "metadata": {
        "colab": {
          "base_uri": "https://localhost:8080/",
          "height": 257
        },
        "id": "7sIR1Qr1DwRD",
        "outputId": "e4680eed-a07f-430e-d465-a6cf1bb6cc40"
      },
      "outputs": [
        {
          "data": {
            "image/png": "[encoded data removed]",
            "text/plain": [
              "<Figure size 1000x1000 with 1 Axes>"
            ]
          },
          "metadata": {},
          "output_type": "display_data"
        }
      ],
      "source": [
        "# reconstructing some images after last epoch\n",
        "model.eval()\n",
        "with torch.no_grad():\n",
        "\n",
        "  sample = images[:8]\n",
        "  recon, _, _ = model(sample)\n",
        "  comparison = torch.cat([sample, recon])\n",
        "  show_images(comparison, f'Epoch {epoch}: Original (top) vs Reconstructed (bottom)')"
      ]
    },
    {
      "cell_type": "code",
      "execution_count": 13,
      "metadata": {},
      "outputs": [
        {
          "data": {
            "image/png": "[encoded data removed]",
            "text/plain": [
              "<Figure size 1000x1000 with 1 Axes>"
            ]
          },
          "metadata": {},
          "output_type": "display_data"
        }
      ],
      "source": [
        "# displaying only reconstructed images\n",
        "model.eval()\n",
        "with torch.no_grad():\n",
        "  dataiter = iter(train_loader)\n",
        "  images, _ = next(dataiter)\n",
        "\n",
        "  sample = images[:32] \n",
        "  recon, _, _ = model(sample)\n",
        "\n",
        "  show_images(recon.cpu(), f'Epoch {epoch}: Reconstructed Images')"
      ]
    }
  ],
  "metadata": {
    "colab": {
      "provenance": []
    },
    "kernelspec": {
      "display_name": "ml_env (3.9.9)",
      "language": "python",
      "name": "python3"
    },
    "language_info": {
      "codemirror_mode": {
        "name": "ipython",
        "version": 3
      },
      "file_extension": ".py",
      "mimetype": "text/x-python",
      "name": "python",
      "nbconvert_exporter": "python",
      "pygments_lexer": "ipython3",
      "version": "3.9.9"
    }
  },
  "nbformat": 4,
  "nbformat_minor": 0
}
