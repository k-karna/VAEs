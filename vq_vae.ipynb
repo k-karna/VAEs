{
  "cells": [
    {
      "cell_type": "markdown",
      "metadata": {
        "id": "qVAdwPf6hHbU"
      },
      "source": [
        "## __Vector Quantized Variational AutoEncoder (VQ-VAE)__ Modelling\n",
        "\n",
        "Source: [Neural Discrete Representation Learning](https://proceedings.neurips.cc/paper/2017/hash/7a98af17e63a0ac09ce2e96d03992fbc-Abstract.html)"
      ]
    },
    {
      "cell_type": "markdown",
      "metadata": {
        "id": "kKGn_5XXg7JU"
      },
      "source": [
        "### __VQ-VAE Architecture__\n",
        "\n",
        "VQ_VAE uses __discrete latent variable__ instead of continuous to pass into decoder of the network.\n",
        "\n",
        "At first, we define a latent embedding space $e\\in \\mathbb{R}^{k\\times D}$ where $K$ is the size of discrete latent space (or ``codebook``)and $D$ is the dimension of each latent embedding vector.\n",
        "\n",
        "- Model takes the input $x$ and encoder output $z_{e}(x)$. Here $z_{e}(x)$ is a continuous representation of input $x$.\n",
        "\n",
        "- Next step is __Vector Quantization__ process, where the encoder output of $z_{e}(x)$ is replaced by nearest embedding vector $e_{k}$ from the codebook as given below:\n",
        "$$ z_{q}(x) = e_{k} \\quad \\text{where} \\quad\n",
        "k = \\arg\\min_j \\| z_e(x) - e_j \\|_2 $$\n",
        "\n",
        "Here, $e_{j}$ is the j-th row embeding vector $e_{j} \\in \\mathbb{R}^D$ and $\\| z_e(x) - e_j \\|_2$ is the Euclidean distance between encoder's output and j-th row embedding vector\n",
        "\n",
        "- This makes posterior $q(z |x)$ a one-hot categorical distribution as follows:\n",
        "$$\n",
        "q(z=k \\mid x) =\n",
        "\\begin{cases}\n",
        "1 & \\text{if } k = \\arg\\min_j \\| z_e(x) - e_j \\|_2 \\\\\n",
        "0 & \\text{otherwise}\n",
        "\\end{cases}$$\n",
        "\n",
        "and these embedding $z_{q}(x)$ are then passed into decoder to reconstruct $x$."
      ]
    },
    {
      "cell_type": "markdown",
      "metadata": {
        "id": "cwtdi6uuTF0a"
      },
      "source": [
        "### __Training Part__\n",
        "\n",
        "During the forward pass, the nearest embedding $z_{q}(x)$ is passed to the decoder, and during the backwards pass the gradient $∇_{z}L$ is passed unaltered to the encoder. Since the encoder's output and decoder's input share the same $D$ dimensional space, the gradients contain useful information for encoder how to lower its reconstruction loss. Below given image is borrowed from original paper for representing this process:\n",
        "\n",
        "![VQ-VAE illustration](img/vq_vae.png)\n"
      ]
    },
    {
      "cell_type": "markdown",
      "metadata": {},
      "source": [
        "**Loss function**\n",
        "\n",
        "Our loss function has three components to it\n",
        "\n",
        "- Reconstruction Loss - It optimizes the decoder and encoder, and where due to straight-through estimator gradient flow from decoder to encoder in backward pass.\n",
        "- Vector Quantization or CodeBook Loss - It uses L2 squared distance error to move the embedding vector $e_{i}$ towards the encoder output $z_{e}(x)$. It is the second term in loss function given below.\n",
        "- Commitment Loss - It makes sure the encoder commits to an embedding and its output does not grow arbitrarily large.\n",
        "\n",
        "Thus, the total loss function is given as:\n",
        "\n",
        "$$L = \\log p(x|z_{q}(x)) + \\lVert \\text{sg} [z_{e}(x)] - e \\rVert_{2}^2 + \\beta \\lVert z_{e}(x) - \\text{sg}[e]\\rVert_2^2$$\n",
        "\n",
        "Key thing: Decoder optimizes the first loss term - reconstruction loss, encoder optimizes first and last loss term, and embeddings are optimized by codebook loss, the second term only."
      ]
    },
    {
      "cell_type": "code",
      "execution_count": 1,
      "metadata": {},
      "outputs": [],
      "source": [
        "import torch\n",
        "import numpy as np\n",
        "import torch.nn as nn\n",
        "import torch.nn.functional as F\n",
        "import torchvision\n",
        "import matplotlib.pyplot as plt\n",
        "from torchvision import datasets\n",
        "from torch.utils.data import DataLoader\n",
        "from torchvision.utils import make_grid\n",
        "from torchvision.transforms import v2\n",
        "from torch.optim import Adam\n",
        "from torchinfo import summary"
      ]
    },
    {
      "cell_type": "code",
      "execution_count": 2,
      "metadata": {
        "id": "Y0ne-D5C5udp"
      },
      "outputs": [],
      "source": [
        "#Setting up dataset, transform, and dataloaders\n",
        "transform = v2.Compose([v2.ToImage(), v2.ToDtype(torch.float32, scale=True)])\n",
        "\n",
        "train_data = datasets.MNIST(root='./data', train=True, download=True, transform=transform)\n",
        "test_data = datasets.MNIST(root='./data', train=False, download=True, transform=transform)\n",
        "\n",
        "\n",
        "batch_size = 64\n",
        "train_loader = DataLoader(train_data, batch_size=batch_size, shuffle=True)\n",
        "test_loader = DataLoader(test_data, batch_size=batch_size, shuffle=False)"
      ]
    },
    {
      "cell_type": "code",
      "execution_count": 3,
      "metadata": {
        "colab": {
          "base_uri": "https://localhost:8080/",
          "height": 450
        },
        "id": "QfcnFYHA75TL",
        "outputId": "730bf389-7b49-4888-8da6-e34dfdd3517f"
      },
      "outputs": [
        {
          "data": {
            "image/png": "[encoded data removed]",
            "text/plain": [
              "<Figure size 1000x1000 with 1 Axes>"
            ]
          },
          "metadata": {},
          "output_type": "display_data"
        }
      ],
      "source": [
        "def show_images(images, title=None, nrow=8):\n",
        "    grid = make_grid(images, nrow=nrow, padding=2)\n",
        "    plt.figure(figsize=(10,10))\n",
        "    plt.imshow(np.transpose(grid, (1,2,0))) # changing order of grid to (H, W, C)\n",
        "    if title:\n",
        "        plt.title(title)\n",
        "    plt.axis('off')\n",
        "    plt.show()\n",
        "\n",
        "# Getting new batch of training celeba data\n",
        "dataiter = iter(train_loader)\n",
        "images, _ = next(dataiter)\n",
        "\n",
        "# Plotting images\n",
        "show_images(images[:32], \"Original CelebA Images\")"
      ]
    },
    {
      "cell_type": "markdown",
      "metadata": {},
      "source": [
        "### __VQ-VAE Modelling__"
      ]
    },
    {
      "cell_type": "code",
      "execution_count": 4,
      "metadata": {
        "id": "bZCu5agF7SAC"
      },
      "outputs": [],
      "source": [
        "class VectorQuantizer(nn.Module):\n",
        "\n",
        "    def __init__(self, num_embeddings, embedding_dim, commitment_cost=0.25):\n",
        "        super().__init__()\n",
        "        self.num_embeddings = num_embeddings            #K - size of embedding space or codebook\n",
        "        self.embedding_dim = embedding_dim              #D - Dimension of each embedding\n",
        "        self.commitment_cost = commitment_cost          #Beta from loss function eq\n",
        "\n",
        "        self.embedding = nn.Embedding(num_embeddings, embedding_dim) #initializing embedding table\n",
        "        nn.init.xavier_uniform_(self.embedding.weight, gain=1)\n",
        "        \n",
        "    def forward(self, x):\n",
        "        flat_x = x.permute(0, 2, 3, 1).contiguous()      # (B, C, H, W) -> (B*H*W, C)\n",
        "        flat_x = flat_x.view(-1, self.embedding_dim)     # (B*H*W, D) flattening for VQ\n",
        "\n",
        "        #L2 Square distance calculation\n",
        "        distances = (\n",
        "            torch.sum(flat_x**2, dim=1, keepdim=True) +\n",
        "            torch.sum(self.embedding.weight**2, dim=1) -\n",
        "            2 * torch.matmul(flat_x, self.embedding.weight.t()))\n",
        "\n",
        "        encoding_indices = torch.argmin(distances, dim=1) #taking argmin from eq 1\n",
        "        quantized = self.embedding(encoding_indices)      #z_{q}(x) = e_{k}\n",
        "\n",
        "        #reshaping z_{q}(x) back to match the dimension of  z_{e}(x) \n",
        "        quantized = quantized.view(x.shape[0], x.shape[2], x.shape[3], -1).permute(0, 3, 1, 2)\n",
        "\n",
        "        # Straight-Through Estimator\n",
        "        quantized = x + (quantized - x).detach()\n",
        "\n",
        "        #Loss function second and last term\n",
        "        codebook_loss = F.mse_loss(quantized.detach(), x)                 #middle term for loss function\n",
        "        commitment_loss = self.commitment_cost * F.mse_loss(x.detach(), quantized)               #last term of loss function \n",
        "\n",
        "        # Returning quantized, codebook_loss, commitment_loss, and encoding_indices\n",
        "        return quantized, codebook_loss, commitment_loss, encoding_indices.view(x.shape[0], -1)"
      ]
    },
    {
      "cell_type": "code",
      "execution_count": null,
      "metadata": {
        "id": "LTWu2y-O7bnI"
      },
      "outputs": [],
      "source": [
        "class VQVAE(nn.Module):\n",
        "    def __init__(self, num_embeddings=128, embedding_dim=32, commitment_cost=0.2):\n",
        "        super().__init__()\n",
        "        self.encoder = nn.Sequential(\n",
        "            nn.Conv2d(1, 64, 4, stride=2, padding=1),\n",
        "            nn.LeakyReLU(),\n",
        "            nn.Conv2d(64, 128, 4, stride=2, padding=1),\n",
        "            nn.LeakyReLU(),\n",
        "            nn.Conv2d(128, embedding_dim, 1)\n",
        "        )\n",
        "\n",
        "        self.vq = VectorQuantizer(num_embeddings, embedding_dim, commitment_cost)\n",
        "\n",
        "        self.decoder = nn.Sequential(\n",
        "            nn.ConvTranspose2d(embedding_dim, 128, 4, stride=2, padding=1),\n",
        "            nn.LeakyReLU(),\n",
        "            nn.ConvTranspose2d(128, 64, 4, stride=2, padding=1),\n",
        "            nn.LeakyReLU(),\n",
        "            nn.Conv2d(64, 1, 3, padding=1),\n",
        "            nn.Sigmoid()\n",
        "        )\n",
        "\n",
        "    def forward(self, x):\n",
        "        z = self.encoder(x)\n",
        "        quantized, codebook_loss, commitment_loss, encoding_indices = self.vq(z)\n",
        "        x_recon = self.decoder(quantized)\n",
        "        return x_recon, codebook_loss, commitment_loss, encoding_indices\n",
        "\n",
        "    def decode_from_indices(self, indices):\n",
        "      #Converting indices to embeddings (shape: B, L, D)\n",
        "      quantized = self.vq.embedding(indices)\n",
        "      #Reshapes it back to spatial grid (assuming L = H × W)\n",
        "      H = W = int(indices.shape[1]**0.5)\n",
        "      quantized = quantized.view(indices.shape[0], H, W, -1) # (B, H, W, D)\n",
        "      quantized = quantized.permute(0, 3, 1, 2)              # (B, D, H, W)\n",
        "      return self.decoder(quantized)"
      ]
    },
    {
      "cell_type": "code",
      "execution_count": 6,
      "metadata": {
        "colab": {
          "base_uri": "https://localhost:8080/"
        },
        "id": "RnO6zUeF7eIM",
        "outputId": "becf6846-ea8c-4e5d-95e0-d36a217c88f1"
      },
      "outputs": [],
      "source": [
        "num_epochs = 20\n",
        "learning_rate = 25e-4\n",
        "\n",
        "#defining model, optimizer, and learning rate\n",
        "model = VQVAE(num_embeddings=64, embedding_dim=32, commitment_cost=0.25)\n",
        "optimizer = Adam(model.parameters(), lr=learning_rate)"
      ]
    },
    {
      "cell_type": "code",
      "execution_count": 7,
      "metadata": {
        "colab": {
          "base_uri": "https://localhost:8080/"
        },
        "id": "rDbd5HTo8img",
        "outputId": "9b546628-b087-449a-8605-6d73b5b17678"
      },
      "outputs": [
        {
          "name": "stdout",
          "output_type": "stream",
          "text": [
            "==========================================================================================\n",
            "Layer (type:depth-idx)                   Output Shape              Param #\n",
            "==========================================================================================\n",
            "VQVAE                                    [1, 1, 28, 28]            --\n",
            "├─Sequential: 1-1                        [1, 32, 7, 7]             --\n",
            "│    └─Conv2d: 2-1                       [1, 64, 14, 14]           1,088\n",
            "│    └─LeakyReLU: 2-2                    [1, 64, 14, 14]           --\n",
            "│    └─Conv2d: 2-3                       [1, 128, 7, 7]            131,200\n",
            "│    └─LeakyReLU: 2-4                    [1, 128, 7, 7]            --\n",
            "│    └─Conv2d: 2-5                       [1, 32, 7, 7]             4,128\n",
            "├─VectorQuantizer: 1-2                   [1, 32, 7, 7]             --\n",
            "│    └─Embedding: 2-6                    [49, 32]                  2,048\n",
            "├─Sequential: 1-3                        [1, 1, 28, 28]            --\n",
            "│    └─ConvTranspose2d: 2-7              [1, 128, 14, 14]          65,664\n",
            "│    └─LeakyReLU: 2-8                    [1, 128, 14, 14]          --\n",
            "│    └─ConvTranspose2d: 2-9              [1, 64, 28, 28]           131,136\n",
            "│    └─LeakyReLU: 2-10                   [1, 64, 28, 28]           --\n",
            "│    └─Conv2d: 2-11                      [1, 1, 28, 28]            577\n",
            "│    └─Sigmoid: 2-12                     [1, 1, 28, 28]            --\n",
            "==========================================================================================\n",
            "Total params: 335,841\n",
            "Trainable params: 335,841\n",
            "Non-trainable params: 0\n",
            "Total mult-adds (M): 123.08\n",
            "==========================================================================================\n",
            "Input size (MB): 0.00\n",
            "Forward/backward pass size (MB): 0.78\n",
            "Params size (MB): 1.34\n",
            "Estimated Total Size (MB): 2.13\n",
            "==========================================================================================\n"
          ]
        }
      ],
      "source": [
        "print(summary(model, input_size=(1, 1, 28, 28)))"
      ]
    },
    {
      "cell_type": "code",
      "execution_count": 8,
      "metadata": {
        "colab": {
          "base_uri": "https://localhost:8080/"
        },
        "id": "Mk09RLs57ksV",
        "outputId": "c9ab2338-15aa-4fbd-b389-5a1b134611fc"
      },
      "outputs": [
        {
          "name": "stderr",
          "output_type": "stream",
          "text": [
            "100%|██████████| 938/938 [02:01<00:00,  7.73it/s]\n"
          ]
        },
        {
          "name": "stdout",
          "output_type": "stream",
          "text": [
            "Epoch: 1 Total Loss: 0.0057 Reconstruction Loss: 0.0016 Codebook Loss: 0.0033 Commitment Loss: 0.0008\n"
          ]
        },
        {
          "name": "stderr",
          "output_type": "stream",
          "text": [
            "100%|██████████| 938/938 [02:23<00:00,  6.55it/s]\n"
          ]
        },
        {
          "name": "stdout",
          "output_type": "stream",
          "text": [
            "Epoch: 2 Total Loss: 0.0045 Reconstruction Loss: 0.0013 Codebook Loss: 0.0026 Commitment Loss: 0.0006\n"
          ]
        },
        {
          "name": "stderr",
          "output_type": "stream",
          "text": [
            "100%|██████████| 938/938 [02:32<00:00,  6.15it/s]\n"
          ]
        },
        {
          "name": "stdout",
          "output_type": "stream",
          "text": [
            "Epoch: 3 Total Loss: 0.0040 Reconstruction Loss: 0.0012 Codebook Loss: 0.0022 Commitment Loss: 0.0006\n"
          ]
        },
        {
          "name": "stderr",
          "output_type": "stream",
          "text": [
            "100%|██████████| 938/938 [02:27<00:00,  6.36it/s]\n"
          ]
        },
        {
          "name": "stdout",
          "output_type": "stream",
          "text": [
            "Epoch: 4 Total Loss: 0.0040 Reconstruction Loss: 0.0012 Codebook Loss: 0.0022 Commitment Loss: 0.0005\n"
          ]
        },
        {
          "name": "stderr",
          "output_type": "stream",
          "text": [
            "100%|██████████| 938/938 [02:40<00:00,  5.83it/s]\n"
          ]
        },
        {
          "name": "stdout",
          "output_type": "stream",
          "text": [
            "Epoch: 5 Total Loss: 0.0039 Reconstruction Loss: 0.0012 Codebook Loss: 0.0021 Commitment Loss: 0.0005\n"
          ]
        },
        {
          "name": "stderr",
          "output_type": "stream",
          "text": [
            "100%|██████████| 938/938 [02:28<00:00,  6.33it/s]\n"
          ]
        },
        {
          "name": "stdout",
          "output_type": "stream",
          "text": [
            "Epoch: 6 Total Loss: 0.0037 Reconstruction Loss: 0.0012 Codebook Loss: 0.0020 Commitment Loss: 0.0005\n"
          ]
        },
        {
          "name": "stderr",
          "output_type": "stream",
          "text": [
            "100%|██████████| 938/938 [02:28<00:00,  6.31it/s]\n"
          ]
        },
        {
          "name": "stdout",
          "output_type": "stream",
          "text": [
            "Epoch: 7 Total Loss: 0.0036 Reconstruction Loss: 0.0012 Codebook Loss: 0.0019 Commitment Loss: 0.0005\n"
          ]
        },
        {
          "name": "stderr",
          "output_type": "stream",
          "text": [
            "100%|██████████| 938/938 [02:26<00:00,  6.39it/s]\n"
          ]
        },
        {
          "name": "stdout",
          "output_type": "stream",
          "text": [
            "Epoch: 8 Total Loss: 0.0035 Reconstruction Loss: 0.0012 Codebook Loss: 0.0019 Commitment Loss: 0.0005\n"
          ]
        },
        {
          "name": "stderr",
          "output_type": "stream",
          "text": [
            "100%|██████████| 938/938 [02:28<00:00,  6.32it/s]\n"
          ]
        },
        {
          "name": "stdout",
          "output_type": "stream",
          "text": [
            "Epoch: 9 Total Loss: 0.0035 Reconstruction Loss: 0.0012 Codebook Loss: 0.0018 Commitment Loss: 0.0005\n"
          ]
        },
        {
          "name": "stderr",
          "output_type": "stream",
          "text": [
            "100%|██████████| 938/938 [02:28<00:00,  6.31it/s]\n"
          ]
        },
        {
          "name": "stdout",
          "output_type": "stream",
          "text": [
            "Epoch: 10 Total Loss: 0.0034 Reconstruction Loss: 0.0012 Codebook Loss: 0.0018 Commitment Loss: 0.0004\n"
          ]
        },
        {
          "name": "stderr",
          "output_type": "stream",
          "text": [
            "100%|██████████| 938/938 [02:29<00:00,  6.26it/s]\n"
          ]
        },
        {
          "name": "stdout",
          "output_type": "stream",
          "text": [
            "Epoch: 11 Total Loss: 0.0033 Reconstruction Loss: 0.0012 Codebook Loss: 0.0017 Commitment Loss: 0.0004\n"
          ]
        },
        {
          "name": "stderr",
          "output_type": "stream",
          "text": [
            "100%|██████████| 938/938 [02:35<00:00,  6.03it/s]\n"
          ]
        },
        {
          "name": "stdout",
          "output_type": "stream",
          "text": [
            "Epoch: 12 Total Loss: 0.0033 Reconstruction Loss: 0.0012 Codebook Loss: 0.0017 Commitment Loss: 0.0004\n"
          ]
        },
        {
          "name": "stderr",
          "output_type": "stream",
          "text": [
            "100%|██████████| 938/938 [02:41<00:00,  5.80it/s]\n"
          ]
        },
        {
          "name": "stdout",
          "output_type": "stream",
          "text": [
            "Epoch: 13 Total Loss: 0.0033 Reconstruction Loss: 0.0012 Codebook Loss: 0.0017 Commitment Loss: 0.0004\n"
          ]
        },
        {
          "name": "stderr",
          "output_type": "stream",
          "text": [
            "100%|██████████| 938/938 [02:32<00:00,  6.14it/s]\n"
          ]
        },
        {
          "name": "stdout",
          "output_type": "stream",
          "text": [
            "Epoch: 14 Total Loss: 0.0033 Reconstruction Loss: 0.0012 Codebook Loss: 0.0017 Commitment Loss: 0.0004\n"
          ]
        },
        {
          "name": "stderr",
          "output_type": "stream",
          "text": [
            "100%|██████████| 938/938 [02:38<00:00,  5.91it/s]\n"
          ]
        },
        {
          "name": "stdout",
          "output_type": "stream",
          "text": [
            "Epoch: 15 Total Loss: 0.0033 Reconstruction Loss: 0.0012 Codebook Loss: 0.0017 Commitment Loss: 0.0004\n"
          ]
        },
        {
          "name": "stderr",
          "output_type": "stream",
          "text": [
            "100%|██████████| 938/938 [02:31<00:00,  6.20it/s]\n"
          ]
        },
        {
          "name": "stdout",
          "output_type": "stream",
          "text": [
            "Epoch: 16 Total Loss: 0.0033 Reconstruction Loss: 0.0012 Codebook Loss: 0.0017 Commitment Loss: 0.0004\n"
          ]
        },
        {
          "name": "stderr",
          "output_type": "stream",
          "text": [
            "100%|██████████| 938/938 [02:38<00:00,  5.93it/s]\n"
          ]
        },
        {
          "name": "stdout",
          "output_type": "stream",
          "text": [
            "Epoch: 17 Total Loss: 0.0033 Reconstruction Loss: 0.0012 Codebook Loss: 0.0017 Commitment Loss: 0.0004\n"
          ]
        },
        {
          "name": "stderr",
          "output_type": "stream",
          "text": [
            "100%|██████████| 938/938 [02:34<00:00,  6.08it/s]\n"
          ]
        },
        {
          "name": "stdout",
          "output_type": "stream",
          "text": [
            "Epoch: 18 Total Loss: 0.0033 Reconstruction Loss: 0.0012 Codebook Loss: 0.0017 Commitment Loss: 0.0004\n"
          ]
        },
        {
          "name": "stderr",
          "output_type": "stream",
          "text": [
            "100%|██████████| 938/938 [02:31<00:00,  6.18it/s]\n"
          ]
        },
        {
          "name": "stdout",
          "output_type": "stream",
          "text": [
            "Epoch: 19 Total Loss: 0.0032 Reconstruction Loss: 0.0012 Codebook Loss: 0.0017 Commitment Loss: 0.0004\n"
          ]
        },
        {
          "name": "stderr",
          "output_type": "stream",
          "text": [
            "100%|██████████| 938/938 [02:34<00:00,  6.09it/s]"
          ]
        },
        {
          "name": "stdout",
          "output_type": "stream",
          "text": [
            "Epoch: 20 Total Loss: 0.0032 Reconstruction Loss: 0.0012 Codebook Loss: 0.0016 Commitment Loss: 0.0004\n",
            "Total Training Time: 50 min 14.42 s\n"
          ]
        },
        {
          "name": "stderr",
          "output_type": "stream",
          "text": [
            "\n"
          ]
        }
      ],
      "source": [
        "#training loop\n",
        "import time\n",
        "from tqdm import tqdm\n",
        "start = time.perf_counter()\n",
        "def train(epoch):\n",
        "\n",
        "  model.train()\n",
        "  accumulated_recon_loss = 0\n",
        "  accumulated_codebook_loss = 0\n",
        "  accumulated_commitment_loss = 0\n",
        "  training_loss = 0\n",
        "\n",
        "  for batch_idx, (data, _) in enumerate(tqdm(train_loader)):\n",
        "\n",
        "    optimizer.zero_grad()\n",
        "    recon_batch, codebook_loss, commitment_loss, _ = model(data)\n",
        "\n",
        "    recon_loss = F.binary_cross_entropy(recon_batch, data, reduction='mean')\n",
        "    total_loss = recon_loss + codebook_loss + commitment_loss\n",
        "\n",
        "    total_loss.backward()\n",
        "    training_loss += total_loss.item()\n",
        "    accumulated_recon_loss += recon_loss.item()\n",
        "    accumulated_codebook_loss += codebook_loss.item()\n",
        "    accumulated_commitment_loss += commitment_loss.item()\n",
        "    optimizer.step()\n",
        "\n",
        "  print(f'Epoch: {epoch} Total Loss: {training_loss / len(train_loader.dataset):.4f} '\n",
        "          f'Reconstruction Loss: {accumulated_recon_loss / len(train_loader.dataset):.4f} '\n",
        "          f'Codebook Loss: {accumulated_codebook_loss / len(train_loader.dataset):.4f} '\n",
        "          f'Commitment Loss: {accumulated_commitment_loss / len(train_loader.dataset):.4f}')\n",
        "\n",
        "for epoch in range(1, num_epochs + 1):\n",
        "  train(epoch)\n",
        "\n",
        "end = time.perf_counter()\n",
        "s2mps = lambda s: f\"{s // 60:.0f} min {s % 60:.2f} s\"\n",
        "print(f\"Total Training Time: {s2mps(end - start)}\")"
      ]
    },
    {
      "cell_type": "code",
      "execution_count": 9,
      "metadata": {
        "colab": {
          "base_uri": "https://localhost:8080/",
          "height": 257
        },
        "id": "7sIR1Qr1DwRD",
        "outputId": "e4680eed-a07f-430e-d465-a6cf1bb6cc40"
      },
      "outputs": [
        {
          "data": {
            "image/png": "[encoded data removed]",
            "text/plain": [
              "<Figure size 1000x1000 with 1 Axes>"
            ]
          },
          "metadata": {},
          "output_type": "display_data"
        }
      ],
      "source": [
        "# reconstructing some images after last epoch\n",
        "model.eval()\n",
        "with torch.no_grad():\n",
        "\n",
        "  sample = images[:8]\n",
        "  recon, _, _,_ = model(sample)\n",
        "  comparison = torch.cat([sample, recon])\n",
        "  show_images(comparison, f'Epoch {epoch}: Original (top) vs Reconstructed (bottom)')"
      ]
    },
    {
      "cell_type": "code",
      "execution_count": 10,
      "metadata": {},
      "outputs": [
        {
          "data": {
            "image/png": "[encoded data removed]",
            "text/plain": [
              "<Figure size 1000x1000 with 1 Axes>"
            ]
          },
          "metadata": {},
          "output_type": "display_data"
        }
      ],
      "source": [
        "# displaying only reconstructed images\n",
        "model.eval()\n",
        "with torch.no_grad():\n",
        "  dataiter = iter(train_loader)\n",
        "  images, _ = next(dataiter)\n",
        "\n",
        "  sample = images[:32] \n",
        "  recon, _, _,_ = model(sample)\n",
        "\n",
        "  show_images(recon, f'Epoch {epoch}: Reconstructed Images')"
      ]
    }
  ],
  "metadata": {
    "colab": {
      "provenance": []
    },
    "kernelspec": {
      "display_name": "ml_env (3.9.9)",
      "language": "python",
      "name": "python3"
    },
    "language_info": {
      "codemirror_mode": {
        "name": "ipython",
        "version": 3
      },
      "file_extension": ".py",
      "mimetype": "text/x-python",
      "name": "python",
      "nbconvert_exporter": "python",
      "pygments_lexer": "ipython3",
      "version": "3.9.9"
    }
  },
  "nbformat": 4,
  "nbformat_minor": 0
}
